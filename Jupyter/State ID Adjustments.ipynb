{
 "cells": [
  {
   "cell_type": "code",
   "execution_count": null,
   "metadata": {},
   "outputs": [],
   "source": [
    "# import df file (this is all years combined)\n",
    "import pandas as pd\n",
    "filename = 'mh-cld-all_years.pkl'\n",
    "df = pd.read_pickle(filename)\n",
    "df"
   ]
  },
  {
   "cell_type": "code",
   "execution_count": null,
   "metadata": {},
   "outputs": [],
   "source": [
    "# import state csv to match state ID with state abbreviation\n",
    "df_states = pd.read_csv('States_ID.csv')\n",
    "df_states.head()"
   ]
  },
  {
   "cell_type": "code",
   "execution_count": null,
   "metadata": {},
   "outputs": [],
   "source": [
    "# create a key to match to state ID with the abbreviation\n",
    "state_dict = dict(zip(df_states.STATEFID, df_states.STATE))\n",
    "# replace each state ID with the abbreviation (ex. replace 6 with CA)\n",
    "df = df.replace({'STATEFIP': state_dict})\n",
    "df.head()"
   ]
  },
  {
   "cell_type": "code",
   "execution_count": null,
   "metadata": {},
   "outputs": [],
   "source": [
    "# group by state type\n",
    "group_states = df['STATEFIP'] \n",
    "\n",
    "# series of counts of each state type\n",
    "ser = group_states.value_counts()\n",
    "# make the series a df\n",
    "df1 = ser.to_frame()\n",
    "# replace the index to be numbers and state type is a column\n",
    "df1['STUSPS'] = df1.index.tolist()\n",
    "numb_lst = list(range(0, len(df1.index.tolist())))\n",
    "df1.set_index([pd.Index(numb_lst)], inplace = True)\n",
    "\n",
    "df1"
   ]
  },
  {
   "cell_type": "code",
   "execution_count": null,
   "metadata": {},
   "outputs": [],
   "source": [
    "# accounting for population, start by creating a key of pop and state abbreviation\n",
    "pop_dict = dict(zip(df_states.STATE, df_states.POPULATION))\n",
    "df1['POP'] = df1['STUSPS']\n",
    "df1 = df1.replace({'POP': pop_dict})\n",
    "# make it proper format to do calculations with\n",
    "df1['POP'] = df1['POP'].str.replace(',', '').astype(float)\n",
    "df1 = df1.rename(columns={'STATEFIP': 'COUNT'})\n",
    "# caluclate weighted count (cases per person)\n",
    "df1['Weighted_Count'] = (df1['COUNT'] / df1['POP'])"
   ]
  }
 ],
 "metadata": {
  "kernelspec": {
   "display_name": "Python 3",
   "language": "python",
   "name": "python3"
  },
  "language_info": {
   "codemirror_mode": {
    "name": "ipython",
    "version": 3
   },
   "file_extension": ".py",
   "mimetype": "text/x-python",
   "name": "python",
   "nbconvert_exporter": "python",
   "pygments_lexer": "ipython3",
   "version": "3.7.11"
  }
 },
 "nbformat": 4,
 "nbformat_minor": 4
}
